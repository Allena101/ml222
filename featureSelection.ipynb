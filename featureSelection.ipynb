{
 "cells": [
  {
   "cell_type": "code",
   "execution_count": 15,
   "metadata": {},
   "outputs": [],
   "source": [
    "import pandas as pd\n",
    "import numpy as np\n",
    "\n",
    "import matplotlib.pyplot as plt\n",
    "import seaborn as sns\n",
    "\n",
    "from sklearn.compose import make_column_selector\n",
    "\n",
    "# Encoders \n",
    "from sklearn.preprocessing import KBinsDiscretizer\n",
    "from sklearn.preprocessing import LabelEncoder\n",
    "\n",
    "from sklearn.compose import make_column_selector\n",
    "\n",
    "from sklearn.model_selection import train_test_split"
   ]
  },
  {
   "cell_type": "code",
   "execution_count": 1,
   "metadata": {},
   "outputs": [
    {
     "ename": "NameError",
     "evalue": "name 'pd' is not defined",
     "output_type": "error",
     "traceback": [
      "\u001b[1;31m---------------------------------------------------------------------------\u001b[0m",
      "\u001b[1;31mNameError\u001b[0m                                 Traceback (most recent call last)",
      "Cell \u001b[1;32mIn[1], line 1\u001b[0m\n\u001b[1;32m----> 1\u001b[0m X_train \u001b[39m=\u001b[39m pd\u001b[39m.\u001b[39mread_csv(\u001b[39m\"\u001b[39m\u001b[39mX_train_tran.csv\u001b[39m\u001b[39m\"\u001b[39m)\n\u001b[0;32m      2\u001b[0m y_train \u001b[39m=\u001b[39m pd\u001b[39m.\u001b[39mread_csv(\u001b[39m\"\u001b[39m\u001b[39my_train_tran.csv\u001b[39m\u001b[39m\"\u001b[39m)\n\u001b[0;32m      3\u001b[0m X_test \u001b[39m=\u001b[39m pd\u001b[39m.\u001b[39mread_csv(\u001b[39m\"\u001b[39m\u001b[39mX_test_tran.csv\u001b[39m\u001b[39m\"\u001b[39m)\n",
      "\u001b[1;31mNameError\u001b[0m: name 'pd' is not defined"
     ]
    }
   ],
   "source": [
    "X_train = pd.read_csv(\"X_train_tran.csv\")\n",
    "y_train = pd.read_csv(\"y_train_tran.csv\")\n",
    "X_test = pd.read_csv(\"X_test_tran.csv\")\n",
    "y_test = pd.read_csv(\"y_test_tran.csv\")\n",
    "myColumns = X_train.columns\n",
    "print(X_train.shape)\n",
    "print(y_train.shape)\n",
    "print(X_test.shape)\n",
    "print(y_test.shape)"
   ]
  },
  {
   "cell_type": "code",
   "execution_count": 116,
   "metadata": {},
   "outputs": [],
   "source": [
    "df = pd.read_csv(\"Customer-Churn-Records.csv\")\n",
    "\n",
    "\n",
    "df = df.drop(columns=['RowNumber','CustomerId'])\n",
    "df = df.drop(columns=['Complain'])\n",
    "df = df.rename(columns={'Card Type': 'CardType'})\n",
    "df = df.rename(columns={'Point Earned': 'PointsEarned'})\n",
    "df = df.rename(columns={'Geography': 'Country'})\n",
    "df = df.rename(columns={'Satisfaction Score': 'SatisfactionScore'})\n",
    "# save original columns\n",
    "myColumns_df = df.columns"
   ]
  },
  {
   "cell_type": "code",
   "execution_count": 42,
   "metadata": {},
   "outputs": [
    {
     "data": {
      "text/html": [
       "<div>\n",
       "<style scoped>\n",
       "    .dataframe tbody tr th:only-of-type {\n",
       "        vertical-align: middle;\n",
       "    }\n",
       "\n",
       "    .dataframe tbody tr th {\n",
       "        vertical-align: top;\n",
       "    }\n",
       "\n",
       "    .dataframe thead th {\n",
       "        text-align: right;\n",
       "    }\n",
       "</style>\n",
       "<table border=\"1\" class=\"dataframe\">\n",
       "  <thead>\n",
       "    <tr style=\"text-align: right;\">\n",
       "      <th></th>\n",
       "      <th>Tenure</th>\n",
       "      <th>NumOfProducts</th>\n",
       "      <th>HasCrCard</th>\n",
       "      <th>IsActiveMember</th>\n",
       "      <th>Satisfaction Score</th>\n",
       "      <th>CreditScoreOrd</th>\n",
       "      <th>AgeOrd</th>\n",
       "      <th>TaxBracket</th>\n",
       "      <th>BalanceOrd</th>\n",
       "      <th>PointsEarnedQuant</th>\n",
       "      <th>CardTypeOrd</th>\n",
       "      <th>SurnameOrd</th>\n",
       "      <th>CountryOrd</th>\n",
       "      <th>CountryHappy</th>\n",
       "      <th>GenderBinary</th>\n",
       "    </tr>\n",
       "  </thead>\n",
       "  <tbody>\n",
       "    <tr>\n",
       "      <th>0</th>\n",
       "      <td>2</td>\n",
       "      <td>2</td>\n",
       "      <td>1</td>\n",
       "      <td>0</td>\n",
       "      <td>2</td>\n",
       "      <td>3</td>\n",
       "      <td>1</td>\n",
       "      <td>4</td>\n",
       "      <td>0</td>\n",
       "      <td>1.0</td>\n",
       "      <td>1.0</td>\n",
       "      <td>0.0</td>\n",
       "      <td>1</td>\n",
       "      <td>6.48</td>\n",
       "      <td>0</td>\n",
       "    </tr>\n",
       "    <tr>\n",
       "      <th>1</th>\n",
       "      <td>1</td>\n",
       "      <td>1</td>\n",
       "      <td>1</td>\n",
       "      <td>1</td>\n",
       "      <td>1</td>\n",
       "      <td>4</td>\n",
       "      <td>1</td>\n",
       "      <td>3</td>\n",
       "      <td>1</td>\n",
       "      <td>2.0</td>\n",
       "      <td>2.0</td>\n",
       "      <td>0.0</td>\n",
       "      <td>2</td>\n",
       "      <td>6.69</td>\n",
       "      <td>0</td>\n",
       "    </tr>\n",
       "    <tr>\n",
       "      <th>2</th>\n",
       "      <td>2</td>\n",
       "      <td>1</td>\n",
       "      <td>0</td>\n",
       "      <td>1</td>\n",
       "      <td>1</td>\n",
       "      <td>4</td>\n",
       "      <td>4</td>\n",
       "      <td>4</td>\n",
       "      <td>3</td>\n",
       "      <td>2.0</td>\n",
       "      <td>0.0</td>\n",
       "      <td>0.0</td>\n",
       "      <td>2</td>\n",
       "      <td>6.69</td>\n",
       "      <td>0</td>\n",
       "    </tr>\n",
       "    <tr>\n",
       "      <th>3</th>\n",
       "      <td>4</td>\n",
       "      <td>1</td>\n",
       "      <td>1</td>\n",
       "      <td>0</td>\n",
       "      <td>1</td>\n",
       "      <td>2</td>\n",
       "      <td>1</td>\n",
       "      <td>1</td>\n",
       "      <td>2</td>\n",
       "      <td>0.0</td>\n",
       "      <td>2.0</td>\n",
       "      <td>2.0</td>\n",
       "      <td>3</td>\n",
       "      <td>7.03</td>\n",
       "      <td>1</td>\n",
       "    </tr>\n",
       "    <tr>\n",
       "      <th>4</th>\n",
       "      <td>8</td>\n",
       "      <td>2</td>\n",
       "      <td>0</td>\n",
       "      <td>1</td>\n",
       "      <td>3</td>\n",
       "      <td>3</td>\n",
       "      <td>3</td>\n",
       "      <td>3</td>\n",
       "      <td>0</td>\n",
       "      <td>2.0</td>\n",
       "      <td>0.0</td>\n",
       "      <td>0.0</td>\n",
       "      <td>2</td>\n",
       "      <td>6.69</td>\n",
       "      <td>1</td>\n",
       "    </tr>\n",
       "  </tbody>\n",
       "</table>\n",
       "</div>"
      ],
      "text/plain": [
       "   Tenure  NumOfProducts  HasCrCard  IsActiveMember  Satisfaction Score  \\\n",
       "0       2              2          1               0                   2   \n",
       "1       1              1          1               1                   1   \n",
       "2       2              1          0               1                   1   \n",
       "3       4              1          1               0                   1   \n",
       "4       8              2          0               1                   3   \n",
       "\n",
       "   CreditScoreOrd  AgeOrd  TaxBracket  BalanceOrd  PointsEarnedQuant  \\\n",
       "0               3       1           4           0                1.0   \n",
       "1               4       1           3           1                2.0   \n",
       "2               4       4           4           3                2.0   \n",
       "3               2       1           1           2                0.0   \n",
       "4               3       3           3           0                2.0   \n",
       "\n",
       "   CardTypeOrd  SurnameOrd  CountryOrd  CountryHappy  GenderBinary  \n",
       "0          1.0         0.0           1          6.48             0  \n",
       "1          2.0         0.0           2          6.69             0  \n",
       "2          0.0         0.0           2          6.69             0  \n",
       "3          2.0         2.0           3          7.03             1  \n",
       "4          0.0         0.0           2          6.69             1  "
      ]
     },
     "execution_count": 42,
     "metadata": {},
     "output_type": "execute_result"
    }
   ],
   "source": [
    "X_train.head()"
   ]
  },
  {
   "cell_type": "code",
   "execution_count": null,
   "metadata": {},
   "outputs": [],
   "source": []
  },
  {
   "cell_type": "code",
   "execution_count": null,
   "metadata": {},
   "outputs": [],
   "source": []
  },
  {
   "cell_type": "code",
   "execution_count": 66,
   "metadata": {},
   "outputs": [
    {
     "name": "stdout",
     "output_type": "stream",
     "text": [
      "['Tenure', 'NumOfProducts', 'HasCrCard', 'IsActiveMember', 'Satisfaction Score', 'CreditScoreOrd', 'AgeOrd', 'TaxBracket', 'BalanceOrd', 'PointsEarnedQuant', 'CardTypeOrd', 'SurnameOrd', 'CountryOrd', 'CountryHappy', 'GenderBinary']\n"
     ]
    },
    {
     "data": {
      "text/plain": [
       "[]"
      ]
     },
     "execution_count": 66,
     "metadata": {},
     "output_type": "execute_result"
    }
   ],
   "source": [
    "#\n",
    "#* So we get the numeric and object (i.e. string) columns separated\n",
    "\n",
    "numeric_column_selector = make_column_selector(dtype_include=np.number)\n",
    "num_cols = numeric_column_selector(X_train)\n",
    "print(num_cols)\n",
    "\n",
    "object_column_selector = make_column_selector(dtype_include='object')\n",
    "object_cols = object_column_selector(X_train)\n",
    "object_cols"
   ]
  },
  {
   "attachments": {},
   "cell_type": "markdown",
   "metadata": {},
   "source": [
    "<font color='skyBlue'> \n",
    "We start by looking at how an un-optimized RandomForest classifier rates the feature importance\n",
    "\n",
    "I compare the feature importance between the transformed dataset and the original churn dataset. To be able to compare i use a pretty standard pipeline with onehot, ordinal, and robustscaler.\n",
    "</font>"
   ]
  },
  {
   "cell_type": "code",
   "execution_count": 108,
   "metadata": {},
   "outputs": [
    {
     "name": "stdout",
     "output_type": "stream",
     "text": [
      "Top 15 important features:\n",
      "               Feature  Importance\n",
      "6               AgeOrd    0.157216\n",
      "1        NumOfProducts    0.132206\n",
      "0               Tenure    0.113321\n",
      "8           BalanceOrd    0.083931\n",
      "4   Satisfaction Score    0.076271\n",
      "9    PointsEarnedQuant    0.075792\n",
      "5       CreditScoreOrd    0.071026\n",
      "10         CardTypeOrd    0.064176\n",
      "7           TaxBracket    0.056823\n",
      "3       IsActiveMember    0.041327\n",
      "13        CountryHappy    0.034906\n",
      "12          CountryOrd    0.029350\n",
      "14        GenderBinary    0.027556\n",
      "2            HasCrCard    0.027498\n",
      "11          SurnameOrd    0.008602\n",
      "Classification Report:\n",
      "              precision    recall  f1-score   support\n",
      "\n",
      "           0       0.88      0.97      0.92       796\n",
      "           1       0.82      0.48      0.60       204\n",
      "\n",
      "    accuracy                           0.87      1000\n",
      "   macro avg       0.85      0.72      0.76      1000\n",
      "weighted avg       0.87      0.87      0.86      1000\n",
      "\n"
     ]
    }
   ],
   "source": [
    "import pandas as pd\n",
    "from sklearn.ensemble import RandomForestClassifier\n",
    "\n",
    "\n",
    "\n",
    "y_train = np.ravel(y_train)\n",
    "\n",
    "# Adjusts weights so that the undersampled class get higher weight\n",
    "class_weights = dict(zip(np.unique(y_train), [len(y_train) / (len(np.unique(y_train)) * np.bincount(y_train)[i]) for i in np.unique(y_train)]))\n",
    "class_weights\n",
    "\n",
    "\n",
    "# Create a Random Forest classifier\n",
    "rf_model = RandomForestClassifier(class_weight=class_weights)\n",
    "\n",
    "\n",
    "# Train the Random Forest model\n",
    "rf_model.fit(X_train, y_train)\n",
    "\n",
    "# Get feature importances\n",
    "feature_importances = rf_model.feature_importances_\n",
    "\n",
    "# Create a DataFrame to store feature importances\n",
    "importance_df = pd.DataFrame({'Feature': X_train.columns, 'Importance': feature_importances})\n",
    "\n",
    "# Sort the DataFrame by importance (descending order)\n",
    "importance_df = importance_df.sort_values(by='Importance', ascending=False)\n",
    "\n",
    "# Display the top n important features\n",
    "n = 5  # Number of top features to display\n",
    "n = len(X_train.columns)  # Number of top features to display\n",
    "top_features = importance_df.head(n)\n",
    "print(f\"Top {n} important features:\")\n",
    "print(top_features)\n",
    " \n",
    " \n",
    " \n",
    " # Make predictions on the test set\n",
    "y_pred = rf_model.predict(X_test)\n",
    "\n",
    "# Generate the classification report\n",
    "report = classification_report(y_test, y_pred)\n",
    "print(\"Classification Report:\")\n",
    "print(report)\n",
    "#* NuOfProducts is more important than was shown in the correlation map!\n",
    "#* Tenure is also more important now than was shown on the correlation map.\n",
    "#* Surprised gender is not used to a more significant degree\n",
    "#* Surname encoding seems to not have worked\n",
    "#* Wonder why balance and income are not very close to each other\n",
    "#* Country could most likely be used better"
   ]
  },
  {
   "cell_type": "code",
   "execution_count": 114,
   "metadata": {},
   "outputs": [
    {
     "name": "stdout",
     "output_type": "stream",
     "text": [
      "Feature Importances:\n",
      "scaler__Age 0.21532495864734114\n",
      "ordinal__NumOfProducts 0.10905528027600411\n",
      "scaler__Balance 0.10378124411321371\n",
      "scaler__PointsEarned 0.09800338828814736\n",
      "scaler__EstimatedSalary 0.09729860281483212\n",
      "scaler__CreditScore 0.09561758033598451\n",
      "ordinal__Tenure 0.06266580672254692\n",
      "ordinal__SatisfactionScore 0.043006175097403246\n",
      "onehot__Country_Germany 0.022242912823716644\n",
      "onehot__IsActiveMember_1 0.019811342309359246\n",
      "onehot__IsActiveMember_0 0.0193560547583455\n",
      "onehot__Country_France 0.01265458639553172\n",
      "onehot__CardType_DIAMOND 0.012091537965901036\n",
      "onehot__CardType_SILVER 0.01205720201695805\n",
      "onehot__CardType_GOLD 0.012031966889740753\n",
      "onehot__CardType_PLATINUM 0.01152909065093833\n",
      "onehot__Gender_Male 0.011331517746690032\n",
      "onehot__HasCrCard_1 0.010824920893905647\n",
      "onehot__HasCrCard_0 0.010779761124900264\n",
      "onehot__Gender_Female 0.01066727189309461\n",
      "onehot__Country_Spain 0.009868798235445004\n",
      "Classification Report:\n",
      "              precision    recall  f1-score   support\n",
      "\n",
      "           0       0.88      0.97      0.92      1616\n",
      "           1       0.79      0.45      0.57       384\n",
      "\n",
      "    accuracy                           0.87      2000\n",
      "   macro avg       0.84      0.71      0.75      2000\n",
      "weighted avg       0.86      0.87      0.86      2000\n",
      "\n"
     ]
    }
   ],
   "source": [
    "\n",
    "X = df.drop(['Exited','Surname'], axis=1) # I drop Surname since we have not encoded it\n",
    "y = df['Exited']\n",
    "# yy = np.ravel(y)\n",
    "X_trainDF, X_testDF, y_trainDF, y_testDF = train_test_split(X, y, test_size=0.2, random_state=40)\n",
    "\n",
    "\n",
    "# Define the categorical features for one-hot encoding\n",
    "categorical_features = ['Country', 'Gender', 'HasCrCard', 'IsActiveMember','CardType']\n",
    "\n",
    "# Define the ordinal features for ordinal encoding\n",
    "ordinal_features = ['Tenure', 'NumOfProducts', 'SatisfactionScore']\n",
    "\n",
    "# Define the continuous features for scaling\n",
    "continuous_features = ['CreditScore', 'Age', 'Balance', 'PointsEarned', 'EstimatedSalary']\n",
    "\n",
    "# Define the preprocessing steps\n",
    "preprocessor = ColumnTransformer(\n",
    "    transformers=[\n",
    "        ('onehot', OneHotEncoder(), categorical_features),\n",
    "        ('ordinal', OrdinalEncoder(), ordinal_features),\n",
    "        ('scaler', RobustScaler(), continuous_features) # For potential outliers\n",
    "    ])\n",
    "\n",
    "# Adjusts weights so that the undersampled class get higher weight\n",
    "class_weights = dict(zip(np.unique(y_trainDF), [len(y_trainDF) / (len(np.unique(y_trainDF)) * np.bincount(y_trainDF)[i]) for i in np.unique(y_trainDF)]))\n",
    "class_weights\n",
    "\n",
    "# Define the Random Forest classifier\n",
    "classifier = RandomForestClassifier(class_weight=class_weights)\n",
    "\n",
    "# Create the pipeline\n",
    "pipeline = Pipeline([\n",
    "    ('preprocessor', preprocessor),\n",
    "    ('classifier', classifier)\n",
    "])\n",
    "\n",
    "\n",
    "# Fit the pipeline to the training data\n",
    "pipeline.fit(X_trainDF, y_trainDF)\n",
    "\n",
    "# Get feature importances\n",
    "feature_importances = pipeline.named_steps['classifier'].feature_importances_\n",
    "\n",
    "# Create a DataFrame to store feature importances\n",
    "importance_df = pd.DataFrame({'Feature': pipeline.named_steps['preprocessor'].get_feature_names_out(), 'Importance': feature_importances})\n",
    "\n",
    "# Sort the DataFrame by importance (descending order)\n",
    "importance_df = importance_df.sort_values(by='Importance', ascending=False)\n",
    "\n",
    "# Print feature importances\n",
    "print(\"Feature Importances:\")\n",
    "for feature, importance in zip(importance_df['Feature'], importance_df['Importance']):\n",
    "    print(feature, importance)\n",
    "\n",
    "# Make predictions on the test set\n",
    "y_pred = pipeline.predict(X_testDF)\n",
    "\n",
    "# Generate the classification report\n",
    "report = classification_report(y_testDF, y_pred)\n",
    "print(\"Classification Report:\")\n",
    "print(report)\n",
    "\n",
    "#* We can see that my transformations did make some difference but its a bit hard to interpret when you onehot encode. Age and NumOfProducts seems to still be of similar importance. TaxBracket is valued as more important here as well as country. 'separating' countries with onehot might help the model. Perhaps the feature differences will play a bigger role when it comes to hyperparameter tuning\n",
    "#! The classification report shows a slight better score. However , since the datasets are shuffled differently this could be the main reason. Recall for 1 is really bad for both\n",
    "\n"
   ]
  },
  {
   "attachments": {},
   "cell_type": "markdown",
   "metadata": {},
   "source": [
    "<font color='skyBlue'> \n",
    "Lets look at mutual information for both the transformed and original data\n",
    "</font>"
   ]
  },
  {
   "cell_type": "code",
   "execution_count": 137,
   "metadata": {},
   "outputs": [
    {
     "data": {
      "text/plain": [
       "array([0.        , 0.06764271, 0.        , 0.        , 0.06305002,\n",
       "       0.        , 0.01876155])"
      ]
     },
     "execution_count": 137,
     "metadata": {},
     "output_type": "execute_result"
    }
   ],
   "source": [
    "from sklearn.feature_selection import mutual_info_classif\n",
    "# determine the mutual information\n",
    "X_train_num = X_train[['Tenure', 'NumOfProducts','Satisfaction Score', 'PointsEarnedQuant','AgeOrd','TaxBracket','BalanceOrd',]]\n",
    "mutual_info = mutual_info_classif(X_train_num, y_train)\n",
    "mutual_info"
   ]
  },
  {
   "cell_type": "code",
   "execution_count": 138,
   "metadata": {},
   "outputs": [
    {
     "data": {
      "text/plain": [
       "NumOfProducts         0.067643\n",
       "AgeOrd                0.063050\n",
       "BalanceOrd            0.018762\n",
       "Tenure                0.000000\n",
       "Satisfaction Score    0.000000\n",
       "PointsEarnedQuant     0.000000\n",
       "TaxBracket            0.000000\n",
       "dtype: float64"
      ]
     },
     "execution_count": 138,
     "metadata": {},
     "output_type": "execute_result"
    }
   ],
   "source": [
    "mutual_info = pd.Series(mutual_info)\n",
    "mutual_info.index = X_train_num.columns\n",
    "mutual_info.sort_values(ascending=False)"
   ]
  },
  {
   "cell_type": "code",
   "execution_count": 139,
   "metadata": {},
   "outputs": [
    {
     "data": {
      "text/plain": [
       "<Axes: >"
      ]
     },
     "execution_count": 139,
     "metadata": {},
     "output_type": "execute_result"
    },
    {
     "data": {
      "image/png": "[encoded data removed]",
      "text/plain": [
       "<Figure size 2000x800 with 1 Axes>"
      ]
     },
     "metadata": {},
     "output_type": "display_data"
    }
   ],
   "source": [
    "#let's plot the ordered mutual_info values per feature\n",
    "mutual_info.sort_values(ascending=False).plot.bar(figsize=(20, 8))\n",
    "\n",
    "#* After Balance, the features have very low scores"
   ]
  },
  {
   "cell_type": "code",
   "execution_count": 142,
   "metadata": {},
   "outputs": [
    {
     "data": {
      "text/plain": [
       "array([0.07126733, 0.00090107, 0.00798181, 0.07240609, 0.00592067,\n",
       "       0.        , 0.00080024])"
      ]
     },
     "execution_count": 142,
     "metadata": {},
     "output_type": "execute_result"
    }
   ],
   "source": [
    "from sklearn.feature_selection import mutual_info_classif\n",
    "# determine the mutual information\n",
    "X_trainDF_num = X_trainDF[['Age', 'Tenure','Balance', 'NumOfProducts','EstimatedSalary','SatisfactionScore','PointsEarned',]]\n",
    "mutual_info222 = mutual_info_classif(X_trainDF_num, y_trainDF)\n",
    "mutual_info222"
   ]
  },
  {
   "cell_type": "code",
   "execution_count": 143,
   "metadata": {},
   "outputs": [
    {
     "data": {
      "text/plain": [
       "NumOfProducts        0.072406\n",
       "Age                  0.071267\n",
       "Balance              0.007982\n",
       "EstimatedSalary      0.005921\n",
       "Tenure               0.000901\n",
       "PointsEarned         0.000800\n",
       "SatisfactionScore    0.000000\n",
       "dtype: float64"
      ]
     },
     "execution_count": 143,
     "metadata": {},
     "output_type": "execute_result"
    }
   ],
   "source": [
    "mutual_info222 = pd.Series(mutual_info222)\n",
    "mutual_info222.index = X_trainDF_num.columns\n",
    "mutual_info222.sort_values(ascending=False)"
   ]
  },
  {
   "cell_type": "code",
   "execution_count": 144,
   "metadata": {},
   "outputs": [
    {
     "data": {
      "text/plain": [
       "<Axes: >"
      ]
     },
     "execution_count": 144,
     "metadata": {},
     "output_type": "execute_result"
    },
    {
     "data": {
      "image/png": "[encoded data removed]",
      "text/plain": [
       "<Figure size 2000x800 with 1 Axes>"
      ]
     },
     "metadata": {},
     "output_type": "display_data"
    }
   ],
   "source": [
    "#let's plot the ordered mutual_info values per feature\n",
    "mutual_info222.sort_values(ascending=False).plot.bar(figsize=(20, 8))\n",
    "\n",
    "#* Balance gets a lower score but EstimatedSalary, and Tenure get a higher score"
   ]
  },
  {
   "attachments": {},
   "cell_type": "markdown",
   "metadata": {},
   "source": [
    "<font color='skyBlue'> \n",
    "Let us also look at the categorical features in a similar way using chi-square test.\n",
    "We dont need to test both transformed and original since they are in the same format.\n",
    "</font>"
   ]
  },
  {
   "cell_type": "code",
   "execution_count": 145,
   "metadata": {},
   "outputs": [],
   "source": [
    "from sklearn.feature_selection import chi2\n",
    "# * We will consider binary features as categorical\n",
    "# * Surname is not really categegorical now after it has been encoded\n",
    "X_train_cat = X_train[['GenderBinary', 'CountryOrd','SurnameOrd','HasCrCard','IsActiveMember']]\n",
    "f_p_values=chi2(X_train_cat ,y_train)"
   ]
  },
  {
   "cell_type": "code",
   "execution_count": 149,
   "metadata": {},
   "outputs": [
    {
     "data": {
      "text/plain": [
       "IsActiveMember    3.750575e-20\n",
       "GenderBinary      2.002341e-12\n",
       "CountryOrd        1.054061e-10\n",
       "HasCrCard         4.240394e-01\n",
       "SurnameOrd        7.075608e-01\n",
       "dtype: float64"
      ]
     },
     "execution_count": 149,
     "metadata": {},
     "output_type": "execute_result"
    }
   ],
   "source": [
    "import pandas as pd\n",
    "p_values=pd.Series(f_p_values[1])\n",
    "p_values.index=categorical_df.columns\n",
    "p_values.sort_values(ascending=True)\n",
    "#* HasCrCard and Surname are above the standard 0.05, so we can view them as not significant"
   ]
  },
  {
   "attachments": {},
   "cell_type": "markdown",
   "metadata": {},
   "source": [
    "<font color='skyBlue'> \n",
    "Let us take a look if classification remains mostly the same if we use PCA to reduce the features.\n",
    "</font>"
   ]
  },
  {
   "cell_type": "code",
   "execution_count": 158,
   "metadata": {},
   "outputs": [
    {
     "name": "stdout",
     "output_type": "stream",
     "text": [
      "Number of Components: 10\n",
      "Explained Variance Ratio: [0.37360462 0.10230878 0.09119447 0.08921701 0.08714033 0.0556375\n",
      " 0.05078668 0.04847998 0.03635011 0.02050438]\n"
     ]
    }
   ],
   "source": [
    "from sklearn.decomposition import PCA\n",
    "from sklearn.preprocessing import StandardScaler\n",
    "\n",
    "# Perform PCA with the desired percentage of variance\n",
    "pca = PCA(0.95)  # 95% of variance\n",
    "X_pca = pca.fit_transform(X_train)\n",
    "\n",
    "# Transform the test data using the preprocessor\n",
    "X_test_pca = pca.transform(X_test)\n",
    "\n",
    "\n",
    "# Get the actual number of components that explain the desired variance\n",
    "n_components = pca.n_components_\n",
    "\n",
    "# Print the number of components and the explained variance ratio\n",
    "print(\"Number of Components:\", n_components)\n",
    "print(\"Explained Variance Ratio:\", pca.explained_variance_ratio_)\n",
    "\n",
    "#* we reduce the features from 15 to 10. Which could be really advantageous if we had so much data so that it took a long time to train the model\n",
    "#* This does tell us that even though there is not much correlation and information in the features according to the tests, the model can still find use for them.\n"
   ]
  },
  {
   "cell_type": "code",
   "execution_count": 159,
   "metadata": {},
   "outputs": [
    {
     "name": "stdout",
     "output_type": "stream",
     "text": [
      "Classification Report:\n",
      "              precision    recall  f1-score   support\n",
      "\n",
      "           0       0.84      0.96      0.90       796\n",
      "           1       0.67      0.29      0.41       204\n",
      "\n",
      "    accuracy                           0.83      1000\n",
      "   macro avg       0.75      0.63      0.65      1000\n",
      "weighted avg       0.81      0.83      0.80      1000\n",
      "\n"
     ]
    }
   ],
   "source": [
    "from sklearn.ensemble import RandomForestClassifier\n",
    "from sklearn.model_selection import train_test_split\n",
    "from sklearn.metrics import classification_report\n",
    "\n",
    "\n",
    "# Create a Random Forest classifier\n",
    "rf_model = RandomForestClassifier()\n",
    "\n",
    "# Train the Random Forest model\n",
    "rf_model.fit(X_pca, y_train)\n",
    "\n",
    "# Make predictions on the test set\n",
    "y_pred = rf_model.predict(X_test_pca)\n",
    "\n",
    "\n",
    "# Generate the classification report\n",
    "report = classification_report(y_test, y_pred)\n",
    "print(\"Classification Report:\")\n",
    "print(report)\n",
    "\n",
    "# * The results got worse and now 1 recall is even worse!\n"
   ]
  },
  {
   "cell_type": "code",
   "execution_count": 161,
   "metadata": {},
   "outputs": [
    {
     "name": "stdout",
     "output_type": "stream",
     "text": [
      "Classification Report:\n",
      "              precision    recall  f1-score   support\n",
      "\n",
      "           0       0.87      0.97      0.92      1616\n",
      "           1       0.75      0.41      0.53       384\n",
      "\n",
      "    accuracy                           0.86      2000\n",
      "   macro avg       0.81      0.69      0.72      2000\n",
      "weighted avg       0.85      0.86      0.84      2000\n",
      "\n"
     ]
    }
   ],
   "source": [
    "from sklearn.decomposition import PCA\n",
    "\n",
    "# Apply preprocessing only\n",
    "X_preprocessed = preprocessor.transform(X_trainDF)\n",
    "\n",
    "# Apply PCA\n",
    "pca = PCA(0.95)\n",
    "X_pca = pca.fit_transform(X_preprocessed)\n",
    "\n",
    "# Fit the classifier on the transformed data\n",
    "classifier.fit(X_pca, y_trainDF)\n",
    "\n",
    "# Apply preprocessing and PCA on the test data\n",
    "X_test_preprocessed = preprocessor.transform(X_testDF)\n",
    "X_test_pca = pca.transform(X_test_preprocessed)\n",
    "\n",
    "# Make predictions on the test set\n",
    "y_pred = classifier.predict(X_test_pca)\n",
    "\n",
    "# Generate the classification report\n",
    "report = classification_report(y_testDF, y_pred)\n",
    "print(\"Classification Report:\")\n",
    "print(report)\n",
    "\n",
    "#* Interesting. the standard pipeline handles feature reduction using PCA better. Especially at predicting True positives."
   ]
  },
  {
   "cell_type": "code",
   "execution_count": null,
   "metadata": {},
   "outputs": [],
   "source": []
  },
  {
   "cell_type": "code",
   "execution_count": 163,
   "metadata": {},
   "outputs": [
    {
     "name": "stdout",
     "output_type": "stream",
     "text": [
      "Feature Importances:\n",
      "scaler__Age 0.22131009531500961\n",
      "ordinal__NumOfProducts 0.12385870438946114\n",
      "scaler__Balance 0.10960234464465342\n",
      "scaler__EstimatedSalary 0.10035020671961878\n",
      "scaler__PointsEarned 0.0999701996469128\n",
      "scaler__CreditScore 0.09788809106287184\n",
      "ordinal__Tenure 0.060200286471170365\n",
      "ordinal__Country 0.04244402467377679\n",
      "ordinal__SatisfactionScore 0.04071886855802008\n",
      "ordinal__IsActiveMember 0.03587356452559137\n",
      "ordinal__CardType 0.03384891465081459\n",
      "ordinal__Gender 0.018885471229950202\n",
      "ordinal__HasCrCard 0.015049228112148975\n",
      "Classification Report:\n",
      "              precision    recall  f1-score   support\n",
      "\n",
      "           0       0.89      0.97      0.93      1616\n",
      "           1       0.79      0.48      0.60       384\n",
      "\n",
      "    accuracy                           0.88      2000\n",
      "   macro avg       0.84      0.73      0.76      2000\n",
      "weighted avg       0.87      0.88      0.86      2000\n",
      "\n"
     ]
    }
   ],
   "source": [
    "# Define the categorical features for one-hot encoding\n",
    "categorical_features = ['Country', 'Gender', 'HasCrCard', 'IsActiveMember','CardType']\n",
    "\n",
    "# Define the ordinal features for ordinal encoding\n",
    "ordinal_features = ['Tenure', 'NumOfProducts', 'SatisfactionScore']\n",
    "\n",
    "# Define the continuous features for scaling\n",
    "continuous_features = ['CreditScore', 'Age', 'Balance', 'PointsEarned', 'EstimatedSalary']\n",
    "\n",
    "target_enc_features = ['Tenure', 'NumOfProducts', 'SatisfactionScore', 'Country', 'Gender', 'HasCrCard', 'IsActiveMember','CardType']\n",
    "\n",
    "from category_encoders import TargetEncoder\n",
    "\n",
    "\n",
    "# Define the preprocessing steps\n",
    "preprocessor = ColumnTransformer(\n",
    "    transformers=[\n",
    "        # ('onehot', OneHotEncoder(), categorical_features),\n",
    "        ('ordinal', TargetEncoder(), target_enc_features),\n",
    "        ('scaler', RobustScaler(), continuous_features) # For potential outliers\n",
    "    ])\n",
    "\n",
    "# Adjusts weights so that the undersampled class get higher weight\n",
    "class_weights = dict(zip(np.unique(y_trainDF), [len(y_trainDF) / (len(np.unique(y_trainDF)) * np.bincount(y_trainDF)[i]) for i in np.unique(y_trainDF)]))\n",
    "class_weights\n",
    "\n",
    "# Define the Random Forest classifier\n",
    "classifier = RandomForestClassifier(class_weight=class_weights)\n",
    "\n",
    "# Create the pipeline\n",
    "pipeline = Pipeline([\n",
    "    ('preprocessor', preprocessor),\n",
    "    ('classifier', classifier)\n",
    "])\n",
    "\n",
    "\n",
    "# Fit the pipeline to the training data\n",
    "pipeline.fit(X_trainDF, y_trainDF)\n",
    "\n",
    "# Get feature importances\n",
    "feature_importances = pipeline.named_steps['classifier'].feature_importances_\n",
    "\n",
    "# Create a DataFrame to store feature importances\n",
    "importance_df = pd.DataFrame({'Feature': pipeline.named_steps['preprocessor'].get_feature_names_out(), 'Importance': feature_importances})\n",
    "\n",
    "# Sort the DataFrame by importance (descending order)\n",
    "importance_df = importance_df.sort_values(by='Importance', ascending=False)\n",
    "\n",
    "# Print feature importances\n",
    "print(\"Feature Importances:\")\n",
    "for feature, importance in zip(importance_df['Feature'], importance_df['Importance']):\n",
    "    print(feature, importance)\n",
    "\n",
    "# Make predictions on the test set\n",
    "y_pred = pipeline.predict(X_testDF)\n",
    "\n",
    "# Generate the classification report\n",
    "report = classification_report(y_testDF, y_pred)\n",
    "print(\"Classification Report:\")\n",
    "print(report)\n"
   ]
  },
  {
   "cell_type": "code",
   "execution_count": 167,
   "metadata": {},
   "outputs": [
    {
     "name": "stdout",
     "output_type": "stream",
     "text": [
      "Warning: No categorical columns found. Calling 'transform' will only return input data.\n",
      "Feature Importances:\n",
      "target__AgeOrd 0.1644197883326881\n",
      "target__Tenure 0.14662719153917708\n",
      "target__NumOfProducts 0.1456577097300137\n",
      "target__BalanceOrd 0.10015299034989841\n",
      "target__PointsEarnedQuant 0.09690884146327763\n",
      "target__Satisfaction Score 0.09538798291835833\n",
      "target__TaxBracket 0.07044587643942084\n",
      "target__CountryOrd 0.06263156477056862\n",
      "target__IsActiveMember 0.04348065593029776\n",
      "target__HasCrCard 0.03285407169761983\n",
      "target__GenderBinary 0.031155643225858624\n",
      "target__SurnameOrd 0.0102776836028211\n",
      "Classification Report:\n",
      "              precision    recall  f1-score   support\n",
      "\n",
      "           0       0.88      0.96      0.92       796\n",
      "           1       0.74      0.50      0.59       204\n",
      "\n",
      "    accuracy                           0.86      1000\n",
      "   macro avg       0.81      0.73      0.76      1000\n",
      "weighted avg       0.85      0.86      0.85      1000\n",
      "\n"
     ]
    }
   ],
   "source": [
    "X_train_cat = X_train[['GenderBinary', 'CountryOrd','SurnameOrd','HasCrCard','IsActiveMember']]\n",
    "\n",
    "X_train_num = X_train[['Tenure', 'NumOfProducts','Satisfaction Score', 'PointsEarnedQuant','AgeOrd','TaxBracket','BalanceOrd',]]\n",
    "\n",
    "target_enc_features = ['GenderBinary', 'CountryOrd','SurnameOrd','HasCrCard','IsActiveMember', 'Tenure', 'NumOfProducts','Satisfaction Score', 'PointsEarnedQuant','AgeOrd','TaxBracket','BalanceOrd']\n",
    "\n",
    "from category_encoders import TargetEncoder\n",
    "\n",
    "\n",
    "# Define the preprocessing steps\n",
    "preprocessor = ColumnTransformer(\n",
    "    transformers=[\n",
    "        # ('onehot', OneHotEncoder(), categorical_features),\n",
    "        ('target', TargetEncoder(), target_enc_features),\n",
    "        # ('scaler', RobustScaler(), continuous_features) # For potential outliers\n",
    "    ])\n",
    "\n",
    "# Adjusts weights so that the undersampled class get higher weight\n",
    "class_weights = dict(zip(np.unique(y_train), [len(y_train) / (len(np.unique(y_train)) * np.bincount(y_train)[i]) for i in np.unique(y_train)]))\n",
    "class_weights\n",
    "\n",
    "# Define the Random Forest classifier\n",
    "classifier = RandomForestClassifier(class_weight=class_weights)\n",
    "\n",
    "# Create the pipeline\n",
    "pipeline = Pipeline([\n",
    "    ('preprocessor', preprocessor),\n",
    "    ('classifier', classifier)\n",
    "])\n",
    "\n",
    "\n",
    "# Fit the pipeline to the training data\n",
    "pipeline.fit(X_train, y_train)\n",
    "\n",
    "# Get feature importances\n",
    "feature_importances = pipeline.named_steps['classifier'].feature_importances_\n",
    "\n",
    "# Create a DataFrame to store feature importances\n",
    "importance_df = pd.DataFrame({'Feature': pipeline.named_steps['preprocessor'].get_feature_names_out(), 'Importance': feature_importances})\n",
    "\n",
    "# Sort the DataFrame by importance (descending order)\n",
    "importance_df = importance_df.sort_values(by='Importance', ascending=False)\n",
    "\n",
    "# Print feature importances\n",
    "print(\"Feature Importances:\")\n",
    "for feature, importance in zip(importance_df['Feature'], importance_df['Importance']):\n",
    "    print(feature, importance)\n",
    "\n",
    "# Make predictions on the test set\n",
    "y_pred = pipeline.predict(X_test)\n",
    "\n",
    "# Generate the classification report\n",
    "report = classification_report(y_test, y_pred)\n",
    "print(\"Classification Report:\")\n",
    "print(report)"
   ]
  }
 ],
 "metadata": {
  "kernelspec": {
   "display_name": "newENV",
   "language": "python",
   "name": "python3"
  },
  "language_info": {
   "codemirror_mode": {
    "name": "ipython",
    "version": 3
   },
   "file_extension": ".py",
   "mimetype": "text/x-python",
   "name": "python",
   "nbconvert_exporter": "python",
   "pygments_lexer": "ipython3",
   "version": "3.10.9"
  },
  "orig_nbformat": 4
 },
 "nbformat": 4,
 "nbformat_minor": 2
}
